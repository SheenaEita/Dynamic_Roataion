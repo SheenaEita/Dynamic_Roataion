{
  "nbformat": 4,
  "nbformat_minor": 0,
  "metadata": {
    "colab": {
      "provenance": []
    },
    "kernelspec": {
      "name": "python3",
      "display_name": "Python 3"
    },
    "language_info": {
      "name": "python"
    }
  },
  "cells": [
    {
      "cell_type": "markdown",
      "source": [
        "## Import some packages"
      ],
      "metadata": {
        "id": "Hv8vY8Fa8rEO"
      }
    },
    {
      "cell_type": "code",
      "source": [
        "import sympy as sym\n",
        "import numpy as np\n",
        "import math\n",
        "from scipy.integrate import odeint as inte\n",
        "from math import pi\n",
        "from sympy.matrices import Matrix, eye, zeros, ones, diag"
      ],
      "metadata": {
        "id": "5gMq9X39C9zn"
      },
      "execution_count": 593,
      "outputs": []
    },
    {
      "cell_type": "markdown",
      "source": [
        "## Define some matrices"
      ],
      "metadata": {
        "id": "qiF-yLRO8vLl"
      }
    },
    {
      "cell_type": "code",
      "execution_count": 594,
      "metadata": {
        "id": "jMtnlN6jy4_r"
      },
      "outputs": [],
      "source": [
        "theta, e1, e2, e3, psi, phi = sym.symbols(r'\\theta, e1, e2, e3, psi, phi')\n",
        "\n",
        "def rotation_matrix_x(theta_):\n",
        "  Rx_ = [[1, 0, 0],\n",
        "      [0, sym.cos(theta_), -sym.sin(theta_)],\n",
        "      [0, sym.sin(theta_), sym.cos(theta_)]]\n",
        "  return sym.simplify(Matrix(Rx_))\n",
        "      \n",
        "def rotation_matrix_y(theta_):\n",
        "  Ry_ = [[sym.cos(theta_), 0, sym.sin(theta_)],\n",
        "      [0, 1, 0],\n",
        "      [-sym.sin(theta_), 0, sym.cos(theta_)]]\n",
        "  return sym.simplify(Matrix(Ry_)) \n",
        "\n",
        "def rotation_matrix_z(theta_):\n",
        "  Rz_ = [[sym.cos(theta_), -sym.sin(theta_), 0],\n",
        "      [sym.sin(theta_), sym.cos(theta_), 0],\n",
        "      [0, 0, 1]]\n",
        "  return sym.simplify(Matrix(Rz_))\n",
        "\n",
        "def rotation_matrix_n(n_, theta_):\n",
        "  n1_ = n_[0]\n",
        "  n2_ = n_[1]\n",
        "  n3_ = n_[2]\n",
        "  C_ = sym.cos(theta_)\n",
        "  S_ = sym.sin(theta_)\n",
        "  Rn_ = [[n1_**2*(1-C_)+C_, n1_*n2_*(1-C_)-n3_*S_, n1_*n3_*(1-C_)+n2_*S_],\n",
        "      [n1_*n2_*(1-C_)+n3_*S_, n2_**2*(1-C_)+C_, n2_*n3_*(1-C_)-n1_*S_],\n",
        "      [n1_*n3_*(1-C_)-n2_*S_, n2_*n3_*(1-C_)+n1_*S_, n3_**2*(1-C_)+C_]]\n",
        "  return sym.simplify(Matrix(Rn_))\n",
        "\n",
        "def rotation_matrix_Euler323(psi_, theta_, phi_):\n",
        "  R1_ = rotation_matrix_n([0,0,1], psi_)\n",
        "  MR1_ = sym.simplify(R1_)\n",
        "  R2_ = rotation_matrix_n(MR1_*Matrix([0,1,0]), theta_)\n",
        "  MR2_ = sym.simplify(R2_)\n",
        "  R3_ = rotation_matrix_n(MR2_*MR1_*Matrix([0,0,1]), phi_)\n",
        "  MR3_ = sym.simplify(R3_)\n",
        "  R_Final_ = sym.simplify(MR3_*MR2_*MR1_)\n",
        "  return sym.simplify(Matrix(R_Final_))\n",
        "\n",
        "def find_n_theta(E_matrix_):\n",
        "  trR_ = sym.trace(E_matrix_)\n",
        "  theta_ = sym.acos((trR-1)*0.5)\n",
        "  R23_ = E_matrix_[1,2]\n",
        "  R32_ = E_matrix_[2,1]\n",
        "  R13_ = E_matrix_[0,2]\n",
        "  R31_ = E_matrix_[2,0]\n",
        "  R12_ = E_matrix_[0,1]\n",
        "  R21_ = E_matrix_[1,0]\n",
        "  n1_ = (-R23_-R32_)/(2*sym.sin(theta_))\n",
        "  n2_ = (-R31_-R13_)/(2*sym.sin(theta_))\n",
        "  n3_ = (-R12_-R21_)/(2*sym.sin(theta_))\n",
        "  n = [n1,n2,n3]\n",
        "  return n, theta_\n",
        "\n",
        "def find_unit_vector(a_):\n",
        "  length_ = np.linalg.norm(a_)\n",
        "  return a_/length_\n"
      ]
    },
    {
      "cell_type": "markdown",
      "source": [
        "\n",
        "\n",
        "---\n",
        "\n"
      ],
      "metadata": {
        "id": "-BFFKlhmAWju"
      }
    },
    {
      "cell_type": "markdown",
      "source": [
        "## Checking if the matrices we defined are correct"
      ],
      "metadata": {
        "id": "0M4veeRK80LL"
      }
    },
    {
      "cell_type": "code",
      "source": [
        "r = rotation_matrix_x(theta)\n",
        "r"
      ],
      "metadata": {
        "id": "tHuYviZoCzGt",
        "colab": {
          "base_uri": "https://localhost:8080/",
          "height": 78
        },
        "outputId": "bb063eb3-4dfa-40bc-f494-30aa58042342"
      },
      "execution_count": 595,
      "outputs": [
        {
          "output_type": "execute_result",
          "data": {
            "text/plain": [
              "Matrix([\n",
              "[1,           0,            0],\n",
              "[0, cos(\\theta), -sin(\\theta)],\n",
              "[0, sin(\\theta),  cos(\\theta)]])"
            ],
            "text/latex": "$\\displaystyle \\left[\\begin{matrix}1 & 0 & 0\\\\0 & \\cos{\\left(\\theta \\right)} & - \\sin{\\left(\\theta \\right)}\\\\0 & \\sin{\\left(\\theta \\right)} & \\cos{\\left(\\theta \\right)}\\end{matrix}\\right]$"
          },
          "metadata": {},
          "execution_count": 595
        }
      ]
    },
    {
      "cell_type": "code",
      "source": [
        "my_n = [1,0,0]\n",
        "rr = rotation_matrix_n(my_n, theta)\n",
        "rr"
      ],
      "metadata": {
        "colab": {
          "base_uri": "https://localhost:8080/",
          "height": 78
        },
        "id": "XQ9gD1EJHFyb",
        "outputId": "1897ee9d-605a-4c2a-d1fa-ef1384cfc34f"
      },
      "execution_count": 596,
      "outputs": [
        {
          "output_type": "execute_result",
          "data": {
            "text/plain": [
              "Matrix([\n",
              "[1,           0,            0],\n",
              "[0, cos(\\theta), -sin(\\theta)],\n",
              "[0, sin(\\theta),  cos(\\theta)]])"
            ],
            "text/latex": "$\\displaystyle \\left[\\begin{matrix}1 & 0 & 0\\\\0 & \\cos{\\left(\\theta \\right)} & - \\sin{\\left(\\theta \\right)}\\\\0 & \\sin{\\left(\\theta \\right)} & \\cos{\\left(\\theta \\right)}\\end{matrix}\\right]$"
          },
          "metadata": {},
          "execution_count": 596
        }
      ]
    },
    {
      "cell_type": "markdown",
      "source": [
        "\n",
        "\n",
        "---\n",
        "\n"
      ],
      "metadata": {
        "id": "bPnXxEELAVYY"
      }
    },
    {
      "cell_type": "markdown",
      "source": [
        "# Question 1"
      ],
      "metadata": {
        "id": "QZdg9PhR9Zsu"
      }
    },
    {
      "cell_type": "markdown",
      "source": [
        "## Question 1a"
      ],
      "metadata": {
        "id": "Lz98A2Qw_6nq"
      }
    },
    {
      "cell_type": "code",
      "source": [
        "Q1_coord = [e1,e2,e3]\n",
        "Q1a_e1 = [1,0,0]\n",
        "Q1a_e2 = [0,1,0]\n",
        "Q1a_R1 = rotation_matrix_n(Q1a_e1,pi/4)\n",
        "Q1a_R2 = rotation_matrix_n(Q1a_e2,pi/4)"
      ],
      "metadata": {
        "id": "YnWYSdrKU8Zy"
      },
      "execution_count": 597,
      "outputs": []
    },
    {
      "cell_type": "code",
      "source": [
        "Q1a_R_Final = Q1a_R2*Q1a_R1\n",
        "Q1a_R_Final"
      ],
      "metadata": {
        "id": "_u291oqYZ04a",
        "colab": {
          "base_uri": "https://localhost:8080/",
          "height": 78
        },
        "outputId": "10a8050c-20fd-4ff3-dba8-d7dd8a28cd18"
      },
      "execution_count": 598,
      "outputs": [
        {
          "output_type": "execute_result",
          "data": {
            "text/plain": [
              "Matrix([\n",
              "[ 0.707106781186548,               0.5,                0.5],\n",
              "[                 0, 0.707106781186548, -0.707106781186547],\n",
              "[-0.707106781186547,               0.5,                0.5]])"
            ],
            "text/latex": "$\\displaystyle \\left[\\begin{matrix}0.707106781186548 & 0.5 & 0.5\\\\0 & 0.707106781186548 & -0.707106781186547\\\\-0.707106781186547 & 0.5 & 0.5\\end{matrix}\\right]$"
          },
          "metadata": {},
          "execution_count": 598
        }
      ]
    },
    {
      "cell_type": "markdown",
      "source": [
        "### Question 1b"
      ],
      "metadata": {
        "id": "b9i4bEnY_pCa"
      }
    },
    {
      "cell_type": "code",
      "source": [
        "find_n_theta(Q1a_R_Final)"
      ],
      "metadata": {
        "colab": {
          "base_uri": "https://localhost:8080/"
        },
        "id": "nd-s8ff6--30",
        "outputId": "e929c6f3-8218-4bec-c482-39b42382167c"
      },
      "execution_count": 599,
      "outputs": [
        {
          "output_type": "execute_result",
          "data": {
            "text/plain": [
              "([0.116429069116206, 0.116429069116206, -0.281084637714820], 1.09605681524063)"
            ]
          },
          "metadata": {},
          "execution_count": 599
        }
      ]
    },
    {
      "cell_type": "markdown",
      "source": [
        "### Question 1c"
      ],
      "metadata": {
        "id": "_uShQSr1ABSe"
      }
    },
    {
      "cell_type": "code",
      "source": [
        "Q1c_R = rotation_matrix_Euler323(psi, theta, phi)\n",
        "Q1c_R"
      ],
      "metadata": {
        "colab": {
          "base_uri": "https://localhost:8080/",
          "height": 78
        },
        "id": "eVzdLcTOy6Hi",
        "outputId": "d66e0297-e031-445a-fc7f-26c7343b03b0"
      },
      "execution_count": 600,
      "outputs": [
        {
          "output_type": "execute_result",
          "data": {
            "text/plain": [
              "Matrix([\n",
              "[-sin(phi)*sin(psi) + cos(\\theta)*cos(phi)*cos(psi), -sin(phi)*cos(\\theta)*cos(psi) - sin(psi)*cos(phi), sin(\\theta)*cos(psi)],\n",
              "[ sin(phi)*cos(psi) + sin(psi)*cos(\\theta)*cos(phi), -sin(phi)*sin(psi)*cos(\\theta) + cos(phi)*cos(psi), sin(\\theta)*sin(psi)],\n",
              "[                             -sin(\\theta)*cos(phi),                               sin(\\theta)*sin(phi),          cos(\\theta)]])"
            ],
            "text/latex": "$\\displaystyle \\left[\\begin{matrix}- \\sin{\\left(\\phi \\right)} \\sin{\\left(\\psi \\right)} + \\cos{\\left(\\theta \\right)} \\cos{\\left(\\phi \\right)} \\cos{\\left(\\psi \\right)} & - \\sin{\\left(\\phi \\right)} \\cos{\\left(\\theta \\right)} \\cos{\\left(\\psi \\right)} - \\sin{\\left(\\psi \\right)} \\cos{\\left(\\phi \\right)} & \\sin{\\left(\\theta \\right)} \\cos{\\left(\\psi \\right)}\\\\\\sin{\\left(\\phi \\right)} \\cos{\\left(\\psi \\right)} + \\sin{\\left(\\psi \\right)} \\cos{\\left(\\theta \\right)} \\cos{\\left(\\phi \\right)} & - \\sin{\\left(\\phi \\right)} \\sin{\\left(\\psi \\right)} \\cos{\\left(\\theta \\right)} + \\cos{\\left(\\phi \\right)} \\cos{\\left(\\psi \\right)} & \\sin{\\left(\\theta \\right)} \\sin{\\left(\\psi \\right)}\\\\- \\sin{\\left(\\theta \\right)} \\cos{\\left(\\phi \\right)} & \\sin{\\left(\\theta \\right)} \\sin{\\left(\\phi \\right)} & \\cos{\\left(\\theta \\right)}\\end{matrix}\\right]$"
          },
          "metadata": {},
          "execution_count": 600
        }
      ]
    },
    {
      "cell_type": "markdown",
      "source": [
        " \n",
        "\n",
        "---\n",
        "\n"
      ],
      "metadata": {
        "id": "hYzb9m7fAPh4"
      }
    },
    {
      "cell_type": "markdown",
      "source": [
        "# Question 2"
      ],
      "metadata": {
        "id": "2j4e28jBAMIm"
      }
    },
    {
      "cell_type": "code",
      "source": [
        "Q2_R = rotation_matrix_Euler323(math.pi/4, math.pi/6, math.pi/4)\n",
        "Q2_R"
      ],
      "metadata": {
        "colab": {
          "base_uri": "https://localhost:8080/",
          "height": 78
        },
        "id": "MoU16oHUzWs-",
        "outputId": "c3934955-e73d-43d1-a73a-9c19bc136c58"
      },
      "execution_count": 601,
      "outputs": [
        {
          "output_type": "execute_result",
          "data": {
            "text/plain": [
              "Matrix([\n",
              "[-0.0669872981077805, -0.933012701892219, 0.353553390593274],\n",
              "[  0.933012701892219, 0.0669872981077809, 0.353553390593274],\n",
              "[ -0.353553390593274,  0.353553390593274, 0.866025403784439]])"
            ],
            "text/latex": "$\\displaystyle \\left[\\begin{matrix}-0.0669872981077805 & -0.933012701892219 & 0.353553390593274\\\\0.933012701892219 & 0.0669872981077809 & 0.353553390593274\\\\-0.353553390593274 & 0.353553390593274 & 0.866025403784439\\end{matrix}\\right]$"
          },
          "metadata": {},
          "execution_count": 601
        }
      ]
    },
    {
      "cell_type": "markdown",
      "source": [
        "\n",
        "\n",
        "---\n",
        "\n"
      ],
      "metadata": {
        "id": "s7zQSB1sAgFI"
      }
    },
    {
      "cell_type": "markdown",
      "source": [
        "# Question 3"
      ],
      "metadata": {
        "id": "9-q_HhssAc3q"
      }
    },
    {
      "cell_type": "code",
      "source": [
        "Q3_D = Matrix([80,60,40])\n",
        "Q3_D_1 = rotation_matrix_x(math.pi/3)*Q3_D\n",
        "Q3_D_final = rotation_matrix_z(math.pi/3*2)*Q3_D_1\n",
        "Q3_D_final"
      ],
      "metadata": {
        "colab": {
          "base_uri": "https://localhost:8080/",
          "height": 78
        },
        "id": "Rlgi3icMrKyG",
        "outputId": "e62b8d81-e515-45b6-bb77-b9a6ce606e72"
      },
      "execution_count": 602,
      "outputs": [
        {
          "output_type": "execute_result",
          "data": {
            "text/plain": [
              "Matrix([\n",
              "[-35.9807621135332],\n",
              "[ 71.6025403784439],\n",
              "[ 71.9615242270663]])"
            ],
            "text/latex": "$\\displaystyle \\left[\\begin{matrix}-35.9807621135332\\\\71.6025403784439\\\\71.9615242270663\\end{matrix}\\right]$"
          },
          "metadata": {},
          "execution_count": 602
        }
      ]
    },
    {
      "cell_type": "markdown",
      "source": [
        "\n",
        "\n",
        "---\n",
        "\n"
      ],
      "metadata": {
        "id": "bVoYyXciAnCY"
      }
    },
    {
      "cell_type": "markdown",
      "source": [
        "# Question 4"
      ],
      "metadata": {
        "id": "DJpRrsViAksE"
      }
    },
    {
      "cell_type": "code",
      "source": [
        "Q4_BA = [-30,-50,-15]\n",
        "Q4_n = find_unit_vector(Q4_BA)\n",
        "Q4_C = Matrix([0,50,15])\n",
        "Q4_C_Final = rotation_matrix_n(Q4_n, 40*math.pi/180)*Q4_C\n",
        "Q4_C_Final "
      ],
      "metadata": {
        "colab": {
          "base_uri": "https://localhost:8080/",
          "height": 78
        },
        "id": "8p0bqShz416R",
        "outputId": "957fa512-d0c2-417b-c691-b65a761dba39"
      },
      "execution_count": 603,
      "outputs": [
        {
          "output_type": "execute_result",
          "data": {
            "text/plain": [
              "Matrix([\n",
              "[ 5.27610117931684],\n",
              "[ 51.8999786156181],\n",
              "[-1.88546441069406]])"
            ],
            "text/latex": "$\\displaystyle \\left[\\begin{matrix}5.27610117931684\\\\51.8999786156181\\\\-1.88546441069406\\end{matrix}\\right]$"
          },
          "metadata": {},
          "execution_count": 603
        }
      ]
    }
  ]
}